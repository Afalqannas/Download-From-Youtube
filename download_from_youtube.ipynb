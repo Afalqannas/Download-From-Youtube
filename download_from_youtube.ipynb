{
 "cells": [
  {
   "cell_type": "markdown",
   "metadata": {},
   "source": [
    "# Download from Youtube"
   ]
  },
  {
   "cell_type": "markdown",
   "metadata": {},
   "source": [
    "## Video"
   ]
  },
  {
   "cell_type": "code",
   "execution_count": 9,
   "metadata": {
    "ExecuteTime": {
     "end_time": "2020-09-25T22:56:00.745895Z",
     "start_time": "2020-09-25T22:56:00.732128Z"
    }
   },
   "outputs": [],
   "source": [
    "from pytube import YouTube\n",
    "url = 'https://www.youtube.com/watch?v=mBbLQ_7UevY' # url of the video\n",
    "video = YouTube(url).streams.get_highest_resolution() # or youtube.streams.first() # for low resolution\n",
    "video.download() # download the video"
   ]
  },
  {
   "cell_type": "markdown",
   "metadata": {},
   "source": [
    "## Audio"
   ]
  },
  {
   "cell_type": "code",
   "execution_count": 3,
   "metadata": {
    "ExecuteTime": {
     "end_time": "2020-09-25T22:47:49.848235Z",
     "start_time": "2020-09-25T22:47:49.834302Z"
    }
   },
   "outputs": [],
   "source": [
    "from pytubemp3 import YouTube\n",
    "url = 'https://www.youtube.com/watch?v=mBbLQ_7UevY'\n",
    "audio = YouTube(url).streams.filter(only_audio=True).first()\n",
    "audio.download() # download the audio"
   ]
  },
  {
   "cell_type": "markdown",
   "metadata": {},
   "source": [
    "## Playlist - Audio"
   ]
  },
  {
   "cell_type": "code",
   "execution_count": 8,
   "metadata": {
    "ExecuteTime": {
     "end_time": "2020-09-25T22:55:31.505409Z",
     "start_time": "2020-09-25T22:55:31.497790Z"
    }
   },
   "outputs": [],
   "source": [
    "from pytube import Playlist\n",
    "from pytubemp3 import YouTube   # this library for audio to download video use 'pytube'\n",
    "import re\n",
    "\n",
    "playlist = Playlist(\"https://www.youtube.com/watch?v=HYzPsh83i0s&list=PL3gYmz2lqVMHjw6cqvcriQtXML1ImkhHy\")\n",
    "playlist._video_regex = re.compile(r\"\\\"url\\\":\\\"(/watch\\?v=[\\w-]*)\")\n",
    "\n",
    "print('Number of Songs: ', len(playlist.video_urls))\n",
    "\n",
    "songs_dict = {'name':[], 'url':[]} # to save songs names and urls\n",
    "\n",
    "count = 0\n",
    "count_list = [] # erorrs list \n",
    "\n",
    "# to track progress\n",
    "first_third = int(len(playlist.video_urls) * 0.30)\n",
    "second_third = int(len(playlist.video_urls) * 0.60)\n",
    "last_third = int(len(playlist.video_urls) * 0.90)\n",
    "\n",
    "for url in playlist.video_urls:\n",
    "    \n",
    "    try:\n",
    "        songs_dict['name'].append(YouTube(url).title)\n",
    "        songs_dict['url'].append(url)\n",
    "\n",
    "        YouTube(url).streams.filter(only_audio=True).first().download()\n",
    "    except:\n",
    "        count_list.append(count)\n",
    "        \n",
    "    # progress\n",
    "    if count == first_third:\n",
    "        print('30% downloaded')\n",
    "    elif count == second_third:\n",
    "        print('60% downloaded')\n",
    "    elif count == last_third:\n",
    "        print('90% downloaded')\n",
    "    \n",
    "    count += 1\n",
    "    \n",
    "print('Download Complete')\n",
    "print('Erorrs locations: ', count_list)"
   ]
  },
  {
   "cell_type": "markdown",
   "metadata": {},
   "source": [
    "### (Additional) Data Frame contain all songs names and links"
   ]
  },
  {
   "cell_type": "code",
   "execution_count": 2,
   "metadata": {
    "ExecuteTime": {
     "end_time": "2020-09-25T20:19:53.960413Z",
     "start_time": "2020-09-25T20:19:52.825552Z"
    }
   },
   "outputs": [
    {
     "data": {
      "text/html": [
       "<div>\n",
       "<style scoped>\n",
       "    .dataframe tbody tr th:only-of-type {\n",
       "        vertical-align: middle;\n",
       "    }\n",
       "\n",
       "    .dataframe tbody tr th {\n",
       "        vertical-align: top;\n",
       "    }\n",
       "\n",
       "    .dataframe thead th {\n",
       "        text-align: right;\n",
       "    }\n",
       "</style>\n",
       "<table border=\"1\" class=\"dataframe\">\n",
       "  <thead>\n",
       "    <tr style=\"text-align: right;\">\n",
       "      <th></th>\n",
       "      <th>name</th>\n",
       "      <th>url</th>\n",
       "    </tr>\n",
       "  </thead>\n",
       "  <tbody>\n",
       "    <tr>\n",
       "      <th>0</th>\n",
       "      <td>شوف بقينا فين يا قلبي وهي راحت فين...عبد الحليم</td>\n",
       "      <td>https://www.youtube.com/watch?v=8LZqepRvZUQ</td>\n",
       "    </tr>\n",
       "    <tr>\n",
       "      <th>1</th>\n",
       "      <td>Khay Khay - Mohamed Abd El Wahab خي خي - محمد ...</td>\n",
       "      <td>https://www.youtube.com/watch?v=JzARECoMUqs</td>\n",
       "    </tr>\n",
       "    <tr>\n",
       "      <th>2</th>\n",
       "      <td>طلال مداح - ياقمرنا - 1973- احتفال إذاعة صوت ا...</td>\n",
       "      <td>https://www.youtube.com/watch?v=_25ZEICEnLc</td>\n",
       "    </tr>\n",
       "    <tr>\n",
       "      <th>3</th>\n",
       "      <td>Howa Saheeh El Hawa Ghallab - Umm Kulthum هو ص...</td>\n",
       "      <td>https://www.youtube.com/watch?v=AaVCd3XZWwE</td>\n",
       "    </tr>\n",
       "    <tr>\n",
       "      <th>4</th>\n",
       "      <td>عشق - فيصل عبدالكريم ( حصرياً ) 2020</td>\n",
       "      <td>https://www.youtube.com/watch?v=pp49q7uh8f8</td>\n",
       "    </tr>\n",
       "    <tr>\n",
       "      <th>...</th>\n",
       "      <td>...</td>\n",
       "      <td>...</td>\n",
       "    </tr>\n",
       "    <tr>\n",
       "      <th>81</th>\n",
       "      <td>كارمن سليمان انت عمرى / Carmen Soliman Enta Omry</td>\n",
       "      <td>https://www.youtube.com/watch?v=plVMM0hMFbI</td>\n",
       "    </tr>\n",
       "    <tr>\n",
       "      <th>82</th>\n",
       "      <td>يا ليته يعلم، فايا يونان Ya Laytahou Yaalam [O...</td>\n",
       "      <td>https://www.youtube.com/watch?v=HBY7kuwxLTE</td>\n",
       "    </tr>\n",
       "    <tr>\n",
       "      <th>83</th>\n",
       "      <td>فليتك تحلو، فايا يونان Falaytaka Tahlou [Offic...</td>\n",
       "      <td>https://www.youtube.com/watch?v=vb2mElklygE</td>\n",
       "    </tr>\n",
       "    <tr>\n",
       "      <th>84</th>\n",
       "      <td>Hathehi Lailaty - Umm Kulthum هذه ليلتى - ام ك...</td>\n",
       "      <td>https://www.youtube.com/watch?v=mBbLQ_7UevY</td>\n",
       "    </tr>\n",
       "    <tr>\n",
       "      <th>85</th>\n",
       "      <td>رابح صقر يبكي,, الي ما خطر ع البال جلسة HD (أد...</td>\n",
       "      <td>https://www.youtube.com/watch?v=VUp1tPMSu5g</td>\n",
       "    </tr>\n",
       "  </tbody>\n",
       "</table>\n",
       "<p>86 rows × 2 columns</p>\n",
       "</div>"
      ],
      "text/plain": [
       "                                                 name  \\\n",
       "0     شوف بقينا فين يا قلبي وهي راحت فين...عبد الحليم   \n",
       "1   Khay Khay - Mohamed Abd El Wahab خي خي - محمد ...   \n",
       "2   طلال مداح - ياقمرنا - 1973- احتفال إذاعة صوت ا...   \n",
       "3   Howa Saheeh El Hawa Ghallab - Umm Kulthum هو ص...   \n",
       "4                عشق - فيصل عبدالكريم ( حصرياً ) 2020   \n",
       "..                                                ...   \n",
       "81   كارمن سليمان انت عمرى / Carmen Soliman Enta Omry   \n",
       "82  يا ليته يعلم، فايا يونان Ya Laytahou Yaalam [O...   \n",
       "83  فليتك تحلو، فايا يونان Falaytaka Tahlou [Offic...   \n",
       "84  Hathehi Lailaty - Umm Kulthum هذه ليلتى - ام ك...   \n",
       "85  رابح صقر يبكي,, الي ما خطر ع البال جلسة HD (أد...   \n",
       "\n",
       "                                            url  \n",
       "0   https://www.youtube.com/watch?v=8LZqepRvZUQ  \n",
       "1   https://www.youtube.com/watch?v=JzARECoMUqs  \n",
       "2   https://www.youtube.com/watch?v=_25ZEICEnLc  \n",
       "3   https://www.youtube.com/watch?v=AaVCd3XZWwE  \n",
       "4   https://www.youtube.com/watch?v=pp49q7uh8f8  \n",
       "..                                          ...  \n",
       "81  https://www.youtube.com/watch?v=plVMM0hMFbI  \n",
       "82  https://www.youtube.com/watch?v=HBY7kuwxLTE  \n",
       "83  https://www.youtube.com/watch?v=vb2mElklygE  \n",
       "84  https://www.youtube.com/watch?v=mBbLQ_7UevY  \n",
       "85  https://www.youtube.com/watch?v=VUp1tPMSu5g  \n",
       "\n",
       "[86 rows x 2 columns]"
      ]
     },
     "execution_count": 2,
     "metadata": {},
     "output_type": "execute_result"
    }
   ],
   "source": [
    "import pandas as pd\n",
    "songs = pd.DataFrame(songs_dict)\n",
    "songs"
   ]
  },
  {
   "cell_type": "markdown",
   "metadata": {},
   "source": [
    "## Playlist - Video"
   ]
  },
  {
   "cell_type": "code",
   "execution_count": 7,
   "metadata": {
    "ExecuteTime": {
     "end_time": "2020-09-25T22:55:17.359429Z",
     "start_time": "2020-09-25T22:55:17.352866Z"
    }
   },
   "outputs": [],
   "source": [
    "from pytube import Playlist\n",
    "from pytube import YouTube\n",
    "import re\n",
    "\n",
    "playlist = Playlist(\"https://www.youtube.com/watch?v=HYzPsh83i0s&list=PL3gYmz2lqVMHjw6cqvcriQtXML1ImkhHy\")\n",
    "playlist._video_regex = re.compile(r\"\\\"url\\\":\\\"(/watch\\?v=[\\w-]*)\")\n",
    "\n",
    "print('Number of Videos: ', len(playlist.video_urls))\n",
    "\n",
    "songs_dict = {'name':[], 'url':[]} # to save songs names and urls\n",
    "\n",
    "count = 0\n",
    "count_list = [] # erorrs list \n",
    "\n",
    "# to track progress\n",
    "first_third = int(len(playlist.video_urls) * 0.30)\n",
    "second_third = int(len(playlist.video_urls) * 0.60)\n",
    "last_third = int(len(playlist.video_urls) * 0.90)\n",
    "\n",
    "for url in playlist.video_urls:\n",
    "    \n",
    "    try:\n",
    "        songs_dict['name'].append(YouTube(url).title)\n",
    "        songs_dict['url'].append(url)\n",
    "\n",
    "        YouTube(url).streams.first().download()\n",
    "    except:\n",
    "        count_list.append(count)\n",
    "        \n",
    "    # progress\n",
    "    if count == first_third:\n",
    "        print('30% downloaded')\n",
    "    elif count == second_third:\n",
    "        print('60% downloaded')\n",
    "    elif count == last_third:\n",
    "        print('90% downloaded')\n",
    "    \n",
    "    count += 1\n",
    "\n",
    "print('Download Complete')\n",
    "print('Erorrs locations: ', count_list)"
   ]
  }
 ],
 "metadata": {
  "kernelspec": {
   "display_name": "Python 3",
   "language": "python",
   "name": "python3"
  },
  "language_info": {
   "codemirror_mode": {
    "name": "ipython",
    "version": 3
   },
   "file_extension": ".py",
   "mimetype": "text/x-python",
   "name": "python",
   "nbconvert_exporter": "python",
   "pygments_lexer": "ipython3",
   "version": "3.7.9"
  },
  "toc": {
   "base_numbering": 1,
   "nav_menu": {},
   "number_sections": true,
   "sideBar": true,
   "skip_h1_title": false,
   "title_cell": "Table of Contents",
   "title_sidebar": "Contents",
   "toc_cell": false,
   "toc_position": {},
   "toc_section_display": true,
   "toc_window_display": false
  }
 },
 "nbformat": 4,
 "nbformat_minor": 4
}
